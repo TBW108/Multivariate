{
 "cells": [
  {
   "cell_type": "code",
   "execution_count": 2,
   "metadata": {},
   "outputs": [
    {
     "data": {
      "text/plain": [
       "101.46666666666665"
      ]
     },
     "execution_count": 2,
     "metadata": {},
     "output_type": "execute_result"
    }
   ],
   "source": [
    "import numpy as np\n",
    "# 7.1\n",
    "Z=np.vstack((np.ones(6),np.array([10,5,7,19,11,8])))\n",
    "y=np.array([15,9,3,25,7,13])\n",
    "beta_hat=np.linalg.inv(Z@Z.T)@Z@y.T\n",
    "y_hat=Z.T@beta_hat\n",
    "eps=y-y_hat\n",
    "eps@eps"
   ]
  },
  {
   "cell_type": "code",
   "execution_count": 20,
   "metadata": {},
   "outputs": [
    {
     "data": {
      "text/plain": [
       "(2.2304914657486985, 2.55)"
      ]
     },
     "execution_count": 20,
     "metadata": {},
     "output_type": "execute_result"
    }
   ],
   "source": [
    "# 7.10(a)(b)\n",
    "Z=np.vstack((np.ones(5),np.array([-2,-1,0,1,2])))\n",
    "y1=np.array([5,3,4,2,1])\n",
    "beta1_hat=np.linalg.inv(Z@Z.T)@Z@y1.T\n",
    "y1_hat=Z.T@beta1_hat\n",
    "s_square=(y1-y1_hat)@(y1-y1_hat)/(5-1-1)\n",
    "z0=np.array([1,0.5])\n",
    "const=z0@(np.linalg.inv(Z@Z.T))@z0.T\n",
    "\n",
    "mean_range=3.182*s_square*np.sqrt(const),z0@beta1_hat\n",
    "pred_range=3.182*s_square*np.sqrt(1+const),z0@beta1_hat\n",
    "pred_range"
   ]
  },
  {
   "cell_type": "code",
   "execution_count": 34,
   "metadata": {},
   "outputs": [
    {
     "data": {
      "text/plain": [
       "0.225"
      ]
     },
     "execution_count": 34,
     "metadata": {},
     "output_type": "execute_result"
    }
   ],
   "source": [
    "# 7.10(c)\n",
    "y2=np.array([-3,-1,-1,2,3])\n",
    "Y=np.vstack((y1,y2))\n",
    "Beta_hat=np.linalg.inv(Z@Z.T)@Z@Y.T\n",
    "Y_hat=Z.T@Beta_hat\n",
    "y0_hat=z0@Beta_hat\n",
    "np.linalg.inv((Y-Y_hat.T)@(Y-Y_hat.T).T)\n"
   ]
  }
 ],
 "metadata": {
  "interpreter": {
   "hash": "20fe3b1ccbbbcfb4557eebe807fd51319c35bcacce22fbad43ecefd1e9ea016d"
  },
  "kernelspec": {
   "display_name": "Python 3.9.12 ('base')",
   "language": "python",
   "name": "python3"
  },
  "language_info": {
   "codemirror_mode": {
    "name": "ipython",
    "version": 3
   },
   "file_extension": ".py",
   "mimetype": "text/x-python",
   "name": "python",
   "nbconvert_exporter": "python",
   "pygments_lexer": "ipython3",
   "version": "3.9.12"
  },
  "orig_nbformat": 4
 },
 "nbformat": 4,
 "nbformat_minor": 2
}
